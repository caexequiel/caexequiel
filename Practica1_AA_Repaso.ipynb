{
  "nbformat": 4,
  "nbformat_minor": 0,
  "metadata": {
    "colab": {
      "provenance": [],
      "include_colab_link": true
    },
    "kernelspec": {
      "name": "python3",
      "display_name": "Python 3"
    },
    "language_info": {
      "name": "python"
    }
  },
  "cells": [
    {
      "cell_type": "markdown",
      "metadata": {
        "id": "view-in-github",
        "colab_type": "text"
      },
      "source": [
        "<a href=\"https://colab.research.google.com/github/caexequiel/caexequiel/blob/main/Practica1_AA_Repaso.ipynb\" target=\"_parent\"><img src=\"https://colab.research.google.com/assets/colab-badge.svg\" alt=\"Open In Colab\"/></a>"
      ]
    },
    {
      "cell_type": "markdown",
      "source": [
        "#Aprendizaje Automático\n",
        "\n",
        "¡Bienvenidos/as al primer colab del curso! A lo largo del mismo vamos a ir repasando diferentes aspectos de la sintaxis de Python, como tipos de estructuras de datos y de control. Por otro lado, vamos a recordar algunos conceptos y análisis que estuvimos viendo en el curso anterior de Procesamiento y Exploración de Datos.\n",
        "\n",
        "![](https://drive.google.com/uc?export=view&id=1Ylk9AljD3C_GOkUHygPoeOfN91c8lUT1)\n",
        "\n",
        "\n"
      ],
      "metadata": {
        "id": "wEZgLyzXeJM6"
      }
    },
    {
      "cell_type": "markdown",
      "source": [
        "## Empecemos por Python...\n",
        "\n",
        "### 1. Ejericicios estructuras de control\n",
        "\n",
        "\n",
        "\n",
        "> a. Definir 2 variables con números (num1 y num2). Crear una estructura condicional donde si los dos números son iguales se imprima \"los dos números son iguales\" (*if... else...*)\n",
        "\n",
        "\n",
        "\n",
        "> b. Crear una estructura condicional donde si \"no llueve\", \"podemos ir a la plaza\" y sino \"debemos quedarnos en casa\" (*if... else...*)\n",
        "\n",
        "> c. Definir una lista con 3 números (puede ser la misma que antes). Crear una estructura iterativa donde se imprima cada número +2 (*for... in...*)\n",
        "\n",
        "> d. Crear una lista con 5 materias de la escuela. Crear una estructura interativa que permita CONTAR la cantidad de elementos en la lista (*for... in...*)\n",
        "\n",
        "> e. Crea una función que divida dos números que reciba como parámetros\n",
        "\n",
        "> f. Crea una función que reciba 2 números e incluya un condicional donde si el segundo número es 0 imprima \"no se puede realizar esta operación\" y sino realice una división entre el primer y el segundo número.\n",
        "\n",
        "> g. Crear una función que dada una lista de números y un número (parámetros), agregue el número a la lista (*def*)"
      ],
      "metadata": {
        "id": "PNSzJuBMgRVE"
      }
    },
    {
      "cell_type": "code",
      "source": [
        "#Ejercicio 1.a\n"
      ],
      "metadata": {
        "id": "oWZE-feBfJ2P"
      },
      "execution_count": null,
      "outputs": []
    },
    {
      "cell_type": "code",
      "execution_count": null,
      "metadata": {
        "id": "wa9GRgmWcwzQ"
      },
      "outputs": [],
      "source": [
        "#Ejercicio 1.b"
      ]
    },
    {
      "cell_type": "code",
      "source": [
        "#..."
      ],
      "metadata": {
        "id": "fCGW9iC3hg97"
      },
      "execution_count": null,
      "outputs": []
    },
    {
      "cell_type": "markdown",
      "source": [
        "## PANDAS\n",
        "### La vida en dos dimensiones... Con Pandas vamos a poder manipular tablas de datos de una manera muy fácil. Los dataframes van a ser nuestro punto de partida para llevar a cabo los modelos y análisis que vamos a ver a lo largo de este curso."
      ],
      "metadata": {
        "id": "UBboYT9YhiIp"
      }
    },
    {
      "cell_type": "markdown",
      "source": [
        "### Ejercicio 2\n",
        "\n",
        "Para este ejercicio vamos a trabajar con datos provenientes del Gobierno de la Ciudad de Buenos Aires sobre la administración de las vacunas de COVID-19"
      ],
      "metadata": {
        "id": "un_s3U99if_h"
      }
    },
    {
      "cell_type": "markdown",
      "source": [
        "> a. Importe el datos desde la página del Gobierno de CABA (este punto se los dejamos resuelto)"
      ],
      "metadata": {
        "id": "vNIjs4Yqk0IK"
      }
    },
    {
      "cell_type": "code",
      "source": [
        "import pandas as pd"
      ],
      "metadata": {
        "id": "aw2ulYFiivLI"
      },
      "execution_count": null,
      "outputs": []
    },
    {
      "cell_type": "code",
      "source": [
        "data = pd.read_csv(\"https://cdn.buenosaires.gob.ar/datosabiertos/datasets/ministerio-de-salud/plan-de-vacunacion-covid-19/dataset_total_vacunas.csv\")"
      ],
      "metadata": {
        "id": "MgGvrvGXiyC_"
      },
      "execution_count": null,
      "outputs": []
    },
    {
      "cell_type": "markdown",
      "source": [
        "> b. ¿Cuántas filas tiene la tabla? ¿Y cuántas columnas?"
      ],
      "metadata": {
        "id": "G8YqjU_mlLmh"
      }
    },
    {
      "cell_type": "code",
      "source": [],
      "metadata": {
        "id": "yXqfIlwZjNjd"
      },
      "execution_count": null,
      "outputs": []
    },
    {
      "cell_type": "markdown",
      "source": [
        "> c. ¿Qué tipos de datos tienen las columnas del dataset?"
      ],
      "metadata": {
        "id": "1x3yvuRslYAR"
      }
    },
    {
      "cell_type": "code",
      "source": [],
      "metadata": {
        "id": "QMxE9tQojRnV"
      },
      "execution_count": null,
      "outputs": []
    },
    {
      "cell_type": "markdown",
      "source": [
        "> d. Realice una tabla de frecuencias absolutas y otra de frecuencias relativas de las variables **GRUPO_ETARIO** y **TIPO_EFECTOR** (ayudita: `.value_counst()`)"
      ],
      "metadata": {
        "id": "waFcEQE-lzvg"
      }
    },
    {
      "cell_type": "code",
      "source": [],
      "metadata": {
        "id": "FNJZt91ijm4F"
      },
      "execution_count": null,
      "outputs": []
    },
    {
      "cell_type": "markdown",
      "source": [
        "> e. Realice un análisis de descriptivo de las variables numéricas, utilizando los principales estadísticos de tendencia central (media, mediana, etc.) y de dispersión (desvío estándar). ¿Qué diría de la distribución de estas variables? ¿Es simétrica?"
      ],
      "metadata": {
        "id": "Cy-Rl7ZRmRtf"
      }
    },
    {
      "cell_type": "code",
      "source": [],
      "metadata": {
        "id": "dzlvbxv7lkWg"
      },
      "execution_count": null,
      "outputs": []
    },
    {
      "cell_type": "markdown",
      "source": [
        "> f. Realice un histograma y un boxplot de la variable **DOSIS_1**. ¿Qué conclusiones puede establecer?"
      ],
      "metadata": {
        "id": "CB4HfFTspwZX"
      }
    },
    {
      "cell_type": "code",
      "source": [],
      "metadata": {
        "id": "nNm3AQoMqAue"
      },
      "execution_count": null,
      "outputs": []
    },
    {
      "cell_type": "markdown",
      "source": [
        "> g. ¿Cuál es la media para la **DOSIS_1** para las mujeres de 91 años o más?"
      ],
      "metadata": {
        "id": "OqW_AbisoAWj"
      }
    },
    {
      "cell_type": "code",
      "source": [],
      "metadata": {
        "id": "Ru1fYm4HkQcu"
      },
      "execution_count": null,
      "outputs": []
    },
    {
      "cell_type": "markdown",
      "source": [
        ">  h. La variable **TIPO_EFECTOR** tiene tres valores posibles: \"Privado\", \"Público\" y \"Público nacional\". Pero a nosotros solo nos interesa distinguir entre ámbitos públicos y privados. Reemplace en la variable **TIPO_EFECTOR** los valores de \"Público nacional\" por \"Público\". (ayudita: `.replace()`)"
      ],
      "metadata": {
        "id": "vXfZ33f4onXW"
      }
    },
    {
      "cell_type": "code",
      "source": [],
      "metadata": {
        "id": "w5kvPA1Bomeq"
      },
      "execution_count": null,
      "outputs": []
    },
    {
      "cell_type": "markdown",
      "source": [
        "> i. ¿Existen datos faltantes en nuestro dataset? En caso afirmativo, proponga una manera de tratarlos e impleméntela."
      ],
      "metadata": {
        "id": "nF1WNdPwqEYG"
      }
    },
    {
      "cell_type": "code",
      "source": [],
      "metadata": {
        "id": "kMjB5N51qD0_"
      },
      "execution_count": null,
      "outputs": []
    },
    {
      "cell_type": "markdown",
      "source": [
        "> j. Haga una nueva tabla tomando solamente los datos de las personas de \"30 o menos\". Analice si existe una correlación entre la DOSIS_1 y la DOSIS_2 para esos casos. Realice un gráfico de puntos para ver gráficamente la relación entre estas dos variables."
      ],
      "metadata": {
        "id": "YgBE-S5Qq8eB"
      }
    },
    {
      "cell_type": "code",
      "source": [],
      "metadata": {
        "id": "XMFF7wLJq_Jv"
      },
      "execution_count": null,
      "outputs": []
    },
    {
      "cell_type": "markdown",
      "source": [
        ">"
      ],
      "metadata": {
        "id": "frtJdK1Zph9Q"
      }
    }
  ]
}