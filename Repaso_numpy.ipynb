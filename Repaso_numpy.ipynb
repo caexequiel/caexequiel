{
  "nbformat": 4,
  "nbformat_minor": 0,
  "metadata": {
    "colab": {
      "provenance": [],
      "include_colab_link": true
    },
    "kernelspec": {
      "name": "python3",
      "display_name": "Python 3"
    },
    "language_info": {
      "name": "python"
    }
  },
  "cells": [
    {
      "cell_type": "markdown",
      "metadata": {
        "id": "view-in-github",
        "colab_type": "text"
      },
      "source": [
        "<a href=\"https://colab.research.google.com/github/caexequiel/caexequiel/blob/main/Repaso_numpy.ipynb\" target=\"_parent\"><img src=\"https://colab.research.google.com/assets/colab-badge.svg\" alt=\"Open In Colab\"/></a>"
      ]
    },
    {
      "cell_type": "markdown",
      "source": [
        "![AI.png](data:image/png;base64,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)"
      ],
      "metadata": {
        "id": "7QgrhhCQeskw"
      }
    },
    {
      "cell_type": "markdown",
      "source": [
        "Repaso Numpy"
      ],
      "metadata": {
        "id": "uvrB6_GDckEd"
      }
    },
    {
      "cell_type": "markdown",
      "metadata": {
        "id": "z5lQmN-cR2SI"
      },
      "source": [
        "La forma en que pensamos en listas es como secuencias de elementos, no como en vectores o matrices. Podemos aproximarnos a la idea de una matriz numérica utilizando listas dentro de listas, como muestra el siguiente ejemplo:"
      ]
    },
    {
      "cell_type": "code",
      "metadata": {
        "id": "du1iA9w-SJNk",
        "colab": {
          "base_uri": "https://localhost:8080/"
        },
        "outputId": "87d007bd-71d4-48f7-99da-1aca18c1d691"
      },
      "source": [
        "a = [[2,5,1],[3,10,12],[2,0,0]]\n",
        "print(a[0][0])\n",
        "print(a[1][2])"
      ],
      "execution_count": null,
      "outputs": [
        {
          "output_type": "stream",
          "text": [
            "2\n",
            "12\n"
          ],
          "name": "stdout"
        }
      ]
    },
    {
      "cell_type": "markdown",
      "metadata": {
        "id": "WjQUEJp7SfDy"
      },
      "source": [
        "Es decir, esta lista se llama con dos índices i,j de forma tal que representa a la siguiente matriz:\n",
        "\n",
        "![matrix.png](data:image/png;base64,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)\n",
        "\n",
        "El problema con esto es que las funciones y métodos de Python no se comportan como esperaríamos si estas fuesen matrices. Por ejemplo, la operación suma no devuelve la suma elemento a elemento, sino la concatenación de la listas:"
      ]
    },
    {
      "cell_type": "code",
      "metadata": {
        "id": "JoSFhXkXTfBv",
        "colab": {
          "base_uri": "https://localhost:8080/"
        },
        "outputId": "27468e43-de05-4482-bcb9-cde9ef13736b"
      },
      "source": [
        "a = [[2,5,1],[3,10,12],[2,0,0]]\n",
        "b = [[2,5,1],[3,10,12],[2,0,0]]\n",
        "print(a+b)"
      ],
      "execution_count": null,
      "outputs": [
        {
          "output_type": "stream",
          "text": [
            "[[2, 5, 1], [3, 10, 12], [2, 0, 0], [2, 5, 1], [3, 10, 12], [2, 0, 0]]\n"
          ],
          "name": "stdout"
        }
      ]
    },
    {
      "cell_type": "markdown",
      "metadata": {
        "id": "BPmE_vPiTo-M"
      },
      "source": [
        "Pero no todo está perdido. La librería de Python llamada Numpy se inventó precisamente para poder transformar listas en vectores y listas de listas en matrices, de forma tal que cumplan con nuestras intuiciones de álgebra lineal."
      ]
    },
    {
      "cell_type": "code",
      "metadata": {
        "id": "2zsChxZPT0xm",
        "colab": {
          "base_uri": "https://localhost:8080/"
        },
        "outputId": "0537cfeb-a343-48a3-fd07-f92c09bbaef3"
      },
      "source": [
        "import numpy as np\n",
        "a = np.array([[2,5,1],[3,10,12],[2,0,0]])\n",
        "b = np.array([[2,5,1],[3,10,12],[2,0,0]])\n",
        "print(a+b)\n",
        "print(type(a))\n"
      ],
      "execution_count": null,
      "outputs": [
        {
          "output_type": "stream",
          "name": "stdout",
          "text": [
            "[[ 4 10  2]\n",
            " [ 6 20 24]\n",
            " [ 4  0  0]]\n",
            "<class 'numpy.ndarray'>\n"
          ]
        }
      ]
    },
    {
      "cell_type": "markdown",
      "metadata": {
        "id": "Tez2yFPOUBaf"
      },
      "source": [
        "Es importante notar que Numpy trabaja con datos numéricos y que por lo tanto podemos encontrar un error si intentamos operar aritméticamente con cualquier array."
      ]
    },
    {
      "cell_type": "code",
      "metadata": {
        "id": "AOYfV1IdUKOo",
        "colab": {
          "base_uri": "https://localhost:8080/",
          "height": 191
        },
        "outputId": "f0d88ebc-f827-4323-d41a-dcc506415a0e"
      },
      "source": [
        "a = np.array(['hola', 'mundo'])\n",
        "b = np.array(['como', 'va'])\n",
        "print(a+b)"
      ],
      "execution_count": null,
      "outputs": [
        {
          "output_type": "error",
          "ename": "UFuncTypeError",
          "evalue": "ignored",
          "traceback": [
            "\u001b[0;31m---------------------------------------------------------------------------\u001b[0m",
            "\u001b[0;31mUFuncTypeError\u001b[0m                            Traceback (most recent call last)",
            "\u001b[0;32m<ipython-input-3-a0043e5c09ae>\u001b[0m in \u001b[0;36m<cell line: 3>\u001b[0;34m()\u001b[0m\n\u001b[1;32m      1\u001b[0m \u001b[0ma\u001b[0m \u001b[0;34m=\u001b[0m \u001b[0mnp\u001b[0m\u001b[0;34m.\u001b[0m\u001b[0marray\u001b[0m\u001b[0;34m(\u001b[0m\u001b[0;34m[\u001b[0m\u001b[0;34m'hola'\u001b[0m\u001b[0;34m,\u001b[0m \u001b[0;34m'mundo'\u001b[0m\u001b[0;34m]\u001b[0m\u001b[0;34m)\u001b[0m\u001b[0;34m\u001b[0m\u001b[0;34m\u001b[0m\u001b[0m\n\u001b[1;32m      2\u001b[0m \u001b[0mb\u001b[0m \u001b[0;34m=\u001b[0m \u001b[0mnp\u001b[0m\u001b[0;34m.\u001b[0m\u001b[0marray\u001b[0m\u001b[0;34m(\u001b[0m\u001b[0;34m[\u001b[0m\u001b[0;34m'como'\u001b[0m\u001b[0;34m,\u001b[0m \u001b[0;34m'va'\u001b[0m\u001b[0;34m]\u001b[0m\u001b[0;34m)\u001b[0m\u001b[0;34m\u001b[0m\u001b[0;34m\u001b[0m\u001b[0m\n\u001b[0;32m----> 3\u001b[0;31m \u001b[0mprint\u001b[0m\u001b[0;34m(\u001b[0m\u001b[0ma\u001b[0m\u001b[0;34m+\u001b[0m\u001b[0mb\u001b[0m\u001b[0;34m)\u001b[0m\u001b[0;34m\u001b[0m\u001b[0;34m\u001b[0m\u001b[0m\n\u001b[0m",
            "\u001b[0;31mUFuncTypeError\u001b[0m: ufunc 'add' did not contain a loop with signature matching types (dtype('<U5'), dtype('<U4')) -> None"
          ]
        }
      ]
    },
    {
      "cell_type": "markdown",
      "metadata": {
        "id": "6zKSr0AHUmcg"
      },
      "source": [
        "También es importante que las dimensiones sean consistentes con las operaciones que queremos realizar."
      ]
    },
    {
      "cell_type": "code",
      "metadata": {
        "id": "ABVwohwBUwaB",
        "colab": {
          "base_uri": "https://localhost:8080/",
          "height": 353
        },
        "outputId": "46280d83-44b5-4cf3-c628-b281ac58fa6b"
      },
      "source": [
        "a = np.array([[2,5,1],[3,10,12],[2,0,0]])\n",
        "b = np.array([[2,5,1],[3,10,12],[2,0,0],[10,10,10]])\n",
        "\n",
        "# estas operaciones entre matrices son válidas\n",
        "print(a+a)\n",
        "print(a*a)\n",
        "\n",
        "# estas operaciones son invalidas\n",
        "print(a+b)\n",
        "print(a*b)\n",
        "print(b*a)"
      ],
      "execution_count": null,
      "outputs": [
        {
          "output_type": "stream",
          "text": [
            "[[ 4 10  2]\n",
            " [ 6 20 24]\n",
            " [ 4  0  0]]\n",
            "[[  4  25   1]\n",
            " [  9 100 144]\n",
            " [  4   0   0]]\n"
          ],
          "name": "stdout"
        },
        {
          "output_type": "error",
          "ename": "ValueError",
          "evalue": "ignored",
          "traceback": [
            "\u001b[0;31m---------------------------------------------------------------------------\u001b[0m",
            "\u001b[0;31mValueError\u001b[0m                                Traceback (most recent call last)",
            "\u001b[0;32m<ipython-input-5-e8c01d2ebccf>\u001b[0m in \u001b[0;36m<module>\u001b[0;34m()\u001b[0m\n\u001b[1;32m      7\u001b[0m \u001b[0;34m\u001b[0m\u001b[0m\n\u001b[1;32m      8\u001b[0m \u001b[0;31m# estas operaciones son invalidas\u001b[0m\u001b[0;34m\u001b[0m\u001b[0;34m\u001b[0m\u001b[0;34m\u001b[0m\u001b[0m\n\u001b[0;32m----> 9\u001b[0;31m \u001b[0mprint\u001b[0m\u001b[0;34m(\u001b[0m\u001b[0ma\u001b[0m\u001b[0;34m+\u001b[0m\u001b[0mb\u001b[0m\u001b[0;34m)\u001b[0m\u001b[0;34m\u001b[0m\u001b[0;34m\u001b[0m\u001b[0m\n\u001b[0m\u001b[1;32m     10\u001b[0m \u001b[0mprint\u001b[0m\u001b[0;34m(\u001b[0m\u001b[0ma\u001b[0m\u001b[0;34m*\u001b[0m\u001b[0mb\u001b[0m\u001b[0;34m)\u001b[0m\u001b[0;34m\u001b[0m\u001b[0;34m\u001b[0m\u001b[0m\n\u001b[1;32m     11\u001b[0m \u001b[0mprint\u001b[0m\u001b[0;34m(\u001b[0m\u001b[0mb\u001b[0m\u001b[0;34m*\u001b[0m\u001b[0ma\u001b[0m\u001b[0;34m)\u001b[0m\u001b[0;34m\u001b[0m\u001b[0;34m\u001b[0m\u001b[0m\n",
            "\u001b[0;31mValueError\u001b[0m: operands could not be broadcast together with shapes (3,3) (4,3) "
          ]
        }
      ]
    },
    {
      "cell_type": "markdown",
      "metadata": {
        "id": "-YzZat89WJZI"
      },
      "source": [
        "Notar que la operación de multiplicación actúa elemento a elemento. Por eso es imposible hacer el producto elemento a elemento de un array de $3 \\times 3$ por uno de $4 \\times 3$, no importa en que orden lo pongamos.\n",
        "\n",
        "Para hacer producto interno de matrices, usamos dot:"
      ]
    },
    {
      "cell_type": "code",
      "metadata": {
        "id": "EhNOZ91NWjbs",
        "colab": {
          "base_uri": "https://localhost:8080/"
        },
        "outputId": "cab56827-524c-4e22-9aae-80d5129ea850"
      },
      "source": [
        "print(np.dot(b,a))"
      ],
      "execution_count": null,
      "outputs": [
        {
          "output_type": "stream",
          "text": [
            "[[ 21  60  62]\n",
            " [ 60 115 123]\n",
            " [  4  10   2]\n",
            " [ 70 150 130]]\n"
          ],
          "name": "stdout"
        }
      ]
    },
    {
      "cell_type": "markdown",
      "metadata": {
        "id": "ehh38uSUWlCA"
      },
      "source": [
        "Obviamente, el orden opuesto da error:\n",
        "la cantidad de columnas de la primera matriz debe coincidir con la catidad de columnas de la segunda\n"
      ]
    },
    {
      "cell_type": "code",
      "metadata": {
        "id": "kJsq8LqFWna6",
        "colab": {
          "base_uri": "https://localhost:8080/",
          "height": 207
        },
        "outputId": "260e22b7-7be7-435e-9c49-5267709ff6d1"
      },
      "source": [
        "print(np.dot(a,b))"
      ],
      "execution_count": null,
      "outputs": [
        {
          "output_type": "error",
          "ename": "ValueError",
          "evalue": "ignored",
          "traceback": [
            "\u001b[0;31m---------------------------------------------------------------------------\u001b[0m",
            "\u001b[0;31mValueError\u001b[0m                                Traceback (most recent call last)",
            "\u001b[0;32m<ipython-input-7-f52e70b01c6f>\u001b[0m in \u001b[0;36m<module>\u001b[0;34m()\u001b[0m\n\u001b[0;32m----> 1\u001b[0;31m \u001b[0mprint\u001b[0m\u001b[0;34m(\u001b[0m\u001b[0mnp\u001b[0m\u001b[0;34m.\u001b[0m\u001b[0mdot\u001b[0m\u001b[0;34m(\u001b[0m\u001b[0ma\u001b[0m\u001b[0;34m,\u001b[0m\u001b[0mb\u001b[0m\u001b[0;34m)\u001b[0m\u001b[0;34m)\u001b[0m\u001b[0;34m\u001b[0m\u001b[0;34m\u001b[0m\u001b[0m\n\u001b[0m",
            "\u001b[0;32m<__array_function__ internals>\u001b[0m in \u001b[0;36mdot\u001b[0;34m(*args, **kwargs)\u001b[0m\n",
            "\u001b[0;31mValueError\u001b[0m: shapes (3,3) and (4,3) not aligned: 3 (dim 1) != 4 (dim 0)"
          ]
        }
      ]
    },
    {
      "cell_type": "markdown",
      "metadata": {
        "id": "BugCRz5FXgyA"
      },
      "source": [
        "¿Qué pasa con los arrays unidimensionales? ¿Entiende automáticamente Numpy que un array puede ser de $1 \\times n$ o de $n \\times 1$ dependiendo del producto que yo quiero hacer?"
      ]
    },
    {
      "cell_type": "code",
      "metadata": {
        "id": "DJx8XM_TXtzr",
        "colab": {
          "base_uri": "https://localhost:8080/"
        },
        "outputId": "b6526130-d6e7-4038-9f63-2cd311a1e737"
      },
      "source": [
        "a = np.array([[2,5,1],[3,10,12],[2,0,0],[10,10,10]])\n",
        "b = np.array([1,2,3])\n",
        "c = np.array([1,2,3,4])\n",
        "print(np.dot(a,b))\n",
        "print(np.dot(c,a))"
      ],
      "execution_count": null,
      "outputs": [
        {
          "output_type": "stream",
          "text": [
            "[15 59  2 60]\n",
            "[54 65 65]\n"
          ],
          "name": "stdout"
        }
      ]
    },
    {
      "cell_type": "markdown",
      "metadata": {
        "id": "F789e9_8X9_I"
      },
      "source": [
        "Aparentemente sí.\n",
        "¿Cómo podemos obtener la dimensión de un array? Usamos el método array.shape()\n",
        "\n",
        "la función  tiene el mismo nombre que pandas\n",
        "diferencia devuelve tupla"
      ]
    },
    {
      "cell_type": "code",
      "metadata": {
        "id": "0UiKz166YF76",
        "colab": {
          "base_uri": "https://localhost:8080/"
        },
        "outputId": "0a6968d2-48e9-4b3a-83c6-cd1672cdcfc7"
      },
      "source": [
        "print(a.shape)\n",
        "print(b.shape)\n",
        "print(c.shape)"
      ],
      "execution_count": null,
      "outputs": [
        {
          "output_type": "stream",
          "text": [
            "(4, 3)\n",
            "(3,)\n",
            "(4,)\n"
          ],
          "name": "stdout"
        }
      ]
    },
    {
      "cell_type": "markdown",
      "metadata": {
        "id": "2nV1kpZnYMzJ"
      },
      "source": [
        "También podemos transponer con np.transpose()\n",
        "intercambia filas con columnas"
      ]
    },
    {
      "cell_type": "code",
      "metadata": {
        "id": "bi_csXe9YR1D",
        "colab": {
          "base_uri": "https://localhost:8080/"
        },
        "outputId": "ae2c1b94-c637-43b2-a797-316676a1836a"
      },
      "source": [
        "print(a)\n",
        "print(np.transpose(a))"
      ],
      "execution_count": null,
      "outputs": [
        {
          "output_type": "stream",
          "text": [
            "[[ 2  5  1]\n",
            " [ 3 10 12]\n",
            " [ 2  0  0]\n",
            " [10 10 10]]\n",
            "[[ 2  3  2 10]\n",
            " [ 5 10  0 10]\n",
            " [ 1 12  0 10]]\n"
          ],
          "name": "stdout"
        }
      ]
    },
    {
      "cell_type": "markdown",
      "metadata": {
        "id": "JCQ8YQHCYXjr"
      },
      "source": [
        "Además, podemos concatenar matrices siempre que elijamos dimensiones consistenes para hacerlo. Para eso, primero formamos una tupla (...,...,...) y después usamos np.concatenate indicando el eje (0=filas, 1=columnas).   AXIS son los ejes Por ejemplo:"
      ]
    },
    {
      "cell_type": "code",
      "metadata": {
        "id": "ChNBaWBKYlhb",
        "colab": {
          "base_uri": "https://localhost:8080/"
        },
        "outputId": "cfd5a088-7064-4506-b00d-71f1292456d3"
      },
      "source": [
        "a = np.array([[2,5,1],[3,10,12],[2,0,0],[10,10,10]])\n",
        "b = np.array([[2,5,1],[3,10,12],[2,0,0]])\n",
        "\n",
        "print(np.concatenate((a,b),axis=0))\n",
        "print(np.concatenate((b,b),axis=1))"
      ],
      "execution_count": null,
      "outputs": [
        {
          "output_type": "stream",
          "text": [
            "[[ 2  5  1]\n",
            " [ 3 10 12]\n",
            " [ 2  0  0]\n",
            " [10 10 10]\n",
            " [ 2  5  1]\n",
            " [ 3 10 12]\n",
            " [ 2  0  0]]\n",
            "[[ 2  5  1  2  5  1]\n",
            " [ 3 10 12  3 10 12]\n",
            " [ 2  0  0  2  0  0]]\n"
          ],
          "name": "stdout"
        }
      ]
    },
    {
      "cell_type": "markdown",
      "metadata": {
        "id": "oOseVD7fZL8d"
      },
      "source": [
        "Podemos elegir sub-matrices usando slicing de forma similar a cómo lo hicimos con listas:"
      ]
    },
    {
      "cell_type": "code",
      "metadata": {
        "id": "k2vBVW2zZUNZ",
        "colab": {
          "base_uri": "https://localhost:8080/"
        },
        "outputId": "056a79c8-2f14-4bc8-8d1b-feec396a7dbe"
      },
      "source": [
        "print(a)\n",
        "print(a[1:3,0:3])"
      ],
      "execution_count": null,
      "outputs": [
        {
          "output_type": "stream",
          "text": [
            "[[ 2  5  1]\n",
            " [ 3 10 12]\n",
            " [ 2  0  0]\n",
            " [10 10 10]]\n",
            "[[ 3 10 12]\n",
            " [ 2  0  0]]\n"
          ],
          "name": "stdout"
        }
      ]
    },
    {
      "cell_type": "markdown",
      "metadata": {
        "id": "HyQb-I8fZfim"
      },
      "source": [
        "Además, podemos seleccionar filas o columnas enteras usando : solo,"
      ]
    },
    {
      "cell_type": "code",
      "metadata": {
        "id": "QiYeYuJqZmU0",
        "colab": {
          "base_uri": "https://localhost:8080/"
        },
        "outputId": "2cafc5ff-468a-469a-ed9f-075dfefac5fd"
      },
      "source": [
        "print(a[:,1])\n",
        "print(a[1,:])"
      ],
      "execution_count": null,
      "outputs": [
        {
          "output_type": "stream",
          "text": [
            "[ 5 10  0 10]\n",
            "[ 3 10 12]\n"
          ],
          "name": "stdout"
        }
      ]
    },
    {
      "cell_type": "markdown",
      "metadata": {
        "id": "X2fD2fKaaCfd"
      },
      "source": [
        "A veces es importante averiguar los índices de un array donde se cumple una determinada condición. Eso puede hacerse con la función np.where() de Numpy:"
      ]
    },
    {
      "cell_type": "code",
      "metadata": {
        "id": "NdOGoL6TaOOE",
        "colab": {
          "base_uri": "https://localhost:8080/"
        },
        "outputId": "6abef7d3-3b2e-43be-854a-6863d670d077"
      },
      "source": [
        "a = np.array([[2,5,1],[3,10,12],[2,0,0],[10,10,10]])\n",
        "np.where(a>1)"
      ],
      "execution_count": null,
      "outputs": [
        {
          "output_type": "execute_result",
          "data": {
            "text/plain": [
              "(array([0, 0, 1, 1, 1, 2, 3, 3, 3]), array([0, 1, 0, 1, 2, 0, 0, 1, 2]))"
            ]
          },
          "metadata": {
            "tags": []
          },
          "execution_count": 14
        }
      ]
    },
    {
      "cell_type": "markdown",
      "metadata": {
        "id": "hEM4DSDnbAlo"
      },
      "source": [
        "Esto podemos usarlo directamente para indexar el array y extraer los valores que cumplen con la condición pedida:"
      ]
    },
    {
      "cell_type": "code",
      "metadata": {
        "id": "L9Bd2A_dbJDx",
        "colab": {
          "base_uri": "https://localhost:8080/"
        },
        "outputId": "ed7e503c-1cff-44f9-ac16-fa6e93ff598a"
      },
      "source": [
        "a[np.where(a>1)]"
      ],
      "execution_count": null,
      "outputs": [
        {
          "output_type": "execute_result",
          "data": {
            "text/plain": [
              "array([ 2,  5,  3, 10, 12,  2, 10, 10, 10])"
            ]
          },
          "metadata": {
            "tags": []
          },
          "execution_count": 15
        }
      ]
    },
    {
      "cell_type": "markdown",
      "metadata": {
        "id": "sYQ7XuOEbPNK"
      },
      "source": [
        "Otra forma de hacerlo es con indexado booleano:"
      ]
    },
    {
      "cell_type": "code",
      "metadata": {
        "id": "bRDrfiqPbSUQ",
        "colab": {
          "base_uri": "https://localhost:8080/"
        },
        "outputId": "f905e222-acec-41bd-8396-e5f6c19aca07"
      },
      "source": [
        "a[a>1]"
      ],
      "execution_count": null,
      "outputs": [
        {
          "output_type": "execute_result",
          "data": {
            "text/plain": [
              "array([ 2,  5,  3, 10, 12,  2, 10, 10, 10])"
            ]
          },
          "metadata": {
            "tags": []
          },
          "execution_count": 16
        }
      ]
    },
    {
      "cell_type": "markdown",
      "metadata": {
        "id": "RtpWNK5wbUdV"
      },
      "source": [
        "Si tenemos varias condiciones podemos usar operadores lógicos:"
      ]
    },
    {
      "cell_type": "code",
      "metadata": {
        "id": "sJl1YPaWbZfR",
        "colab": {
          "base_uri": "https://localhost:8080/",
          "height": 171
        },
        "outputId": "9cd19b83-15c0-487f-9089-44ec0997b172"
      },
      "source": [
        "a[a>1 and a<9]"
      ],
      "execution_count": null,
      "outputs": [
        {
          "output_type": "error",
          "ename": "ValueError",
          "evalue": "ignored",
          "traceback": [
            "\u001b[0;31m---------------------------------------------------------------------------\u001b[0m",
            "\u001b[0;31mValueError\u001b[0m                                Traceback (most recent call last)",
            "\u001b[0;32m<ipython-input-17-2639eb6e5199>\u001b[0m in \u001b[0;36m<module>\u001b[0;34m()\u001b[0m\n\u001b[0;32m----> 1\u001b[0;31m \u001b[0ma\u001b[0m\u001b[0;34m[\u001b[0m\u001b[0ma\u001b[0m\u001b[0;34m>\u001b[0m\u001b[0;36m1\u001b[0m \u001b[0;32mand\u001b[0m \u001b[0ma\u001b[0m\u001b[0;34m<\u001b[0m\u001b[0;36m9\u001b[0m\u001b[0;34m]\u001b[0m\u001b[0;34m\u001b[0m\u001b[0;34m\u001b[0m\u001b[0m\n\u001b[0m",
            "\u001b[0;31mValueError\u001b[0m: The truth value of an array with more than one element is ambiguous. Use a.any() or a.all()"
          ]
        }
      ]
    },
    {
      "cell_type": "markdown",
      "metadata": {
        "id": "VSZeBt1Pbh6A"
      },
      "source": [
        "No es tan sencillo como parecia. Cuando tenemos arrays con más de un elemento, tenemos que usar las funciones np.logical_and() y np.logical_or():"
      ]
    },
    {
      "cell_type": "code",
      "metadata": {
        "id": "DjUEK3n0btSi",
        "colab": {
          "base_uri": "https://localhost:8080/"
        },
        "outputId": "0ab45ac4-8822-498a-ed80-0e93361603db"
      },
      "source": [
        "print(a>1)\n",
        "print(a<9)\n",
        "print(np.logical_and(a>1,a<9))\n",
        "print(np.logical_or(a>1,a<9))\n",
        "print(a[np.logical_and(a>1,a<9)])"
      ],
      "execution_count": null,
      "outputs": [
        {
          "output_type": "stream",
          "text": [
            "[[ True  True False]\n",
            " [ True  True  True]\n",
            " [ True False False]\n",
            " [ True  True  True]]\n",
            "[[ True  True  True]\n",
            " [ True False False]\n",
            " [ True  True  True]\n",
            " [False False False]]\n",
            "[[ True  True False]\n",
            " [ True False False]\n",
            " [ True False False]\n",
            " [False False False]]\n",
            "[[ True  True  True]\n",
            " [ True  True  True]\n",
            " [ True  True  True]\n",
            " [ True  True  True]]\n",
            "[2 5 3 2]\n"
          ],
          "name": "stdout"
        }
      ]
    },
    {
      "cell_type": "markdown",
      "metadata": {
        "id": "gfWBfjercUK-"
      },
      "source": [
        "Hay algunos arrays predefinidos útiles que Numpy puede generar por nosotros, por ejemplo, arrays llenos de 0's o 1's con una forma determinada, o la matriz identidad. Notar que las dimensiones se le pasan como una tupla (...,...,...):"
      ]
    },
    {
      "cell_type": "code",
      "metadata": {
        "id": "k1kFwJcicc8e",
        "colab": {
          "base_uri": "https://localhost:8080/"
        },
        "outputId": "98788a53-57a6-4b80-f05e-b6c89020290b"
      },
      "source": [
        "print(np.zeros((2,5)))\n",
        "print(np.ones((2,5)))\n",
        "print(np.eye(7))"
      ],
      "execution_count": null,
      "outputs": [
        {
          "output_type": "stream",
          "text": [
            "[[0. 0. 0. 0. 0.]\n",
            " [0. 0. 0. 0. 0.]]\n",
            "[[1. 1. 1. 1. 1.]\n",
            " [1. 1. 1. 1. 1.]]\n",
            "[[1. 0. 0. 0. 0. 0. 0.]\n",
            " [0. 1. 0. 0. 0. 0. 0.]\n",
            " [0. 0. 1. 0. 0. 0. 0.]\n",
            " [0. 0. 0. 1. 0. 0. 0.]\n",
            " [0. 0. 0. 0. 1. 0. 0.]\n",
            " [0. 0. 0. 0. 0. 1. 0.]\n",
            " [0. 0. 0. 0. 0. 0. 1.]]\n"
          ],
          "name": "stdout"
        }
      ]
    },
    {
      "cell_type": "markdown",
      "metadata": {
        "id": "fbOPO4w-cxh6"
      },
      "source": [
        "Por último, si tenemos un archivo de datos del tipo .csv (comma separated values) podemos leerlo fácilmente con Numpy.\n",
        "\n",
        "Para eso,  estoy cargando datos que tengo en mi  Drive en una Carpeta que denominé AA_Datos01  'ejemplo_csv_clase_2.csv' Es un pequeño archivo el cual comparto el enlace\n",
        "https://drive.google.com/file/d/1pDQsyrB3J7OoadraVXbF8LfW13svm4jh/view?usp=sharing\n",
        "\n",
        "\n",
        " Procedemos a montar el drive y cargar el archivo .csv como una matrix:"
      ]
    },
    {
      "cell_type": "code",
      "metadata": {
        "id": "ZnkANEZbdE9K",
        "colab": {
          "base_uri": "https://localhost:8080/"
        },
        "outputId": "7dadd9cd-80c1-4a80-9e9d-9628777da7b2"
      },
      "source": [
        "from google.colab import drive\n",
        "drive.mount('/content/drive')\n",
        "\n",
        "filename = '/content/drive/My Drive/AA_Datos01/ejemplo_csv_clase_2.txt'\n",
        "\n",
        "\n",
        "\n",
        "\n",
        "from numpy import genfromtxt\n",
        "a = genfromtxt(filename, delimiter=',')\n",
        "\n",
        "print(a)"
      ],
      "execution_count": null,
      "outputs": [
        {
          "output_type": "stream",
          "name": "stdout",
          "text": [
            "Drive already mounted at /content/drive; to attempt to forcibly remount, call drive.mount(\"/content/drive\", force_remount=True).\n",
            "[[  1.     2.23    nan]\n",
            " [  3.      nan 123.  ]\n",
            " [  0.     0.     0.  ]]\n"
          ]
        }
      ]
    },
    {
      "cell_type": "markdown",
      "metadata": {
        "id": "JVRLaw4_ea9r"
      },
      "source": [
        "Notamos que las entradas que tenían strings fueron cargadas como nan = \"not a number\"\n",
        "\n",
        "La forma en que vamos a cargar datasets consistentes de datos heterogéneos en Python es mediante Pandas, una librería para análisis de datos en Python, en particular usando dataframes."
      ]
    }
  ]
}